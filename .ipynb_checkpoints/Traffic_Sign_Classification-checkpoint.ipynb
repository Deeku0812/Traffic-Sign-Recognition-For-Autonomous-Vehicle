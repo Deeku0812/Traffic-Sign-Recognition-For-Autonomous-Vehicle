{
 "cells": [
  {
   "cell_type": "code",
   "execution_count": 66,
   "id": "ac13d4af",
   "metadata": {},
   "outputs": [],
   "source": [
    "import numpy as np \n",
    "import pandas as pd \n",
    "import matplotlib.pyplot as plt\n",
    "import cv2\n",
    "import tensorflow as tf\n",
    "from PIL import Image\n",
    "import os\n",
    "from sklearn.model_selection import train_test_split\n",
    "from keras.utils import to_categorical\n",
    "from keras.models import Sequential, load_model\n",
    "from keras.layers import Conv2D, MaxPool2D, Dense, Flatten, Dropout\n",
    "from sklearn.metrics import accuracy_score"
   ]
  },
  {
   "cell_type": "code",
   "execution_count": 67,
   "id": "de4aea2b",
   "metadata": {},
   "outputs": [],
   "source": [
    "\n",
    "data = []\n",
    "labels = []\n",
    "classes = 43\n",
    "cur_path = os.getcwd()\n",
    "\n",
    "#Retrieving the images and their labels \n",
    "for i in range(classes):\n",
    "    path = os.path.join(cur_path,'traffic_Sign',str(i))\n",
    "    images = os.listdir(path)\n",
    "\n",
    "    for a in images:\n",
    "        try:\n",
    "            image = Image.open(path + '\\\\'+ a)\n",
    "            image = image.resize((30,30))\n",
    "            image = np.array(image)\n",
    "            #sim = Image.fromarray(image)\n",
    "            data.append(image)\n",
    "            labels.append(i)\n",
    "        except:\n",
    "            print(\"Error loading image\")\n",
    "\n",
    "#Converting lists into numpy arrays\n",
    "data = np.array(data)\n",
    "labels = np.array(labels)"
   ]
  },
  {
   "cell_type": "code",
   "execution_count": 68,
   "id": "d0bf4e8e",
   "metadata": {},
   "outputs": [
    {
     "name": "stdout",
     "output_type": "stream",
     "text": [
      "(39209, 30, 30, 3) (39209,)\n",
      "(31367, 30, 30, 3) (7842, 30, 30, 3) (31367,) (7842,)\n"
     ]
    }
   ],
   "source": [
    "print(data.shape, labels.shape)\n",
    "#Splitting training and testing dataset\n",
    "X_train, X_test, y_train, y_test = train_test_split(data, labels, test_size=0.2, random_state=42)\n",
    "\n",
    "print(X_train.shape, X_test.shape, y_train.shape, y_test.shape)"
   ]
  },
  {
   "cell_type": "code",
   "execution_count": 69,
   "id": "299ef701",
   "metadata": {},
   "outputs": [],
   "source": [
    "#Converting the labels into one hot encoding\n",
    "y_train = to_categorical(y_train, 43)\n",
    "y_test = to_categorical(y_test, 43)"
   ]
  },
  {
   "cell_type": "code",
   "execution_count": 70,
   "id": "8796c857",
   "metadata": {},
   "outputs": [],
   "source": [
    "#Building the model\n",
    "model = Sequential()\n",
    "model.add(Conv2D(filters=32, kernel_size=(5,5), activation='relu', input_shape=X_train.shape[1:]))\n",
    "model.add(Conv2D(filters=32, kernel_size=(5,5), activation='relu'))\n",
    "model.add(MaxPool2D(pool_size=(2, 2)))\n",
    "model.add(Dropout(rate=0.25))\n",
    "model.add(Conv2D(filters=64, kernel_size=(3, 3), activation='relu'))\n",
    "model.add(Conv2D(filters=64, kernel_size=(3, 3), activation='relu'))\n",
    "model.add(MaxPool2D(pool_size=(2, 2)))\n",
    "model.add(Dropout(rate=0.25))\n",
    "model.add(Flatten())\n",
    "model.add(Dense(256, activation='relu'))\n",
    "model.add(Dropout(rate=0.5))\n",
    "model.add(Dense(43, activation='softmax'))"
   ]
  },
  {
   "cell_type": "code",
   "execution_count": 71,
   "id": "83c76b01",
   "metadata": {},
   "outputs": [
    {
     "name": "stdout",
     "output_type": "stream",
     "text": [
      "Epoch 1/15\n",
      "981/981 [==============================] - 46s 45ms/step - loss: 2.2224 - accuracy: 0.4332 - val_loss: 0.7932 - val_accuracy: 0.8077\n",
      "Epoch 2/15\n",
      "981/981 [==============================] - 41s 42ms/step - loss: 0.9358 - accuracy: 0.7186 - val_loss: 0.4282 - val_accuracy: 0.8962\n",
      "Epoch 3/15\n",
      "981/981 [==============================] - 42s 43ms/step - loss: 0.6041 - accuracy: 0.8152 - val_loss: 0.2139 - val_accuracy: 0.9375\n",
      "Epoch 4/15\n",
      "981/981 [==============================] - 41s 42ms/step - loss: 0.4912 - accuracy: 0.8485 - val_loss: 0.1828 - val_accuracy: 0.9495\n",
      "Epoch 5/15\n",
      "981/981 [==============================] - 41s 41ms/step - loss: 0.3994 - accuracy: 0.8786 - val_loss: 0.1472 - val_accuracy: 0.9561\n",
      "Epoch 6/15\n",
      "981/981 [==============================] - 40s 41ms/step - loss: 0.3537 - accuracy: 0.8935 - val_loss: 0.1132 - val_accuracy: 0.9688\n",
      "Epoch 7/15\n",
      "981/981 [==============================] - 40s 41ms/step - loss: 0.3248 - accuracy: 0.9022 - val_loss: 0.0923 - val_accuracy: 0.9731\n",
      "Epoch 8/15\n",
      "981/981 [==============================] - 41s 42ms/step - loss: 0.2973 - accuracy: 0.9118 - val_loss: 0.1128 - val_accuracy: 0.9711\n",
      "Epoch 9/15\n",
      "981/981 [==============================] - 40s 41ms/step - loss: 0.2770 - accuracy: 0.9170 - val_loss: 0.0974 - val_accuracy: 0.9718\n",
      "Epoch 10/15\n",
      "981/981 [==============================] - 40s 41ms/step - loss: 0.2874 - accuracy: 0.9153 - val_loss: 0.0761 - val_accuracy: 0.9784\n",
      "Epoch 11/15\n",
      "981/981 [==============================] - 40s 41ms/step - loss: 0.2580 - accuracy: 0.9253 - val_loss: 0.0785 - val_accuracy: 0.9792\n",
      "Epoch 12/15\n",
      "981/981 [==============================] - 41s 42ms/step - loss: 0.2495 - accuracy: 0.9287 - val_loss: 0.1359 - val_accuracy: 0.9589\n",
      "Epoch 13/15\n",
      "981/981 [==============================] - 41s 41ms/step - loss: 0.2467 - accuracy: 0.9286 - val_loss: 0.1398 - val_accuracy: 0.9582\n",
      "Epoch 14/15\n",
      "981/981 [==============================] - 42s 43ms/step - loss: 0.2323 - accuracy: 0.9321 - val_loss: 0.0975 - val_accuracy: 0.9717\n",
      "Epoch 15/15\n",
      "981/981 [==============================] - 41s 42ms/step - loss: 0.2319 - accuracy: 0.9326 - val_loss: 0.0608 - val_accuracy: 0.9818\n"
     ]
    }
   ],
   "source": [
    "#Compilation of the model\n",
    "model.compile(loss='categorical_crossentropy', optimizer='adam', metrics=['accuracy'])\n",
    "\n",
    "history = model.fit(X_train, y_train, batch_size=32, epochs=15, validation_data=(X_test, y_test))\n"
   ]
  },
  {
   "cell_type": "code",
   "execution_count": 72,
   "id": "c39e565f",
   "metadata": {},
   "outputs": [],
   "source": [
    "model.save(\"CNN_model.h5\")"
   ]
  },
  {
   "cell_type": "code",
   "execution_count": 73,
   "id": "a1381b23",
   "metadata": {},
   "outputs": [
    {
     "data": {
      "image/png": "[encoded data removed]",
      "text/plain": [
       "<Figure size 432x288 with 1 Axes>"
      ]
     },
     "metadata": {
      "needs_background": "light"
     },
     "output_type": "display_data"
    },
    {
     "data": {
      "image/png": "[encoded data removed]",
      "text/plain": [
       "<Figure size 432x288 with 1 Axes>"
      ]
     },
     "metadata": {
      "needs_background": "light"
     },
     "output_type": "display_data"
    }
   ],
   "source": [
    "#plotting graphs for accuracy \n",
    "plt.figure(0)\n",
    "plt.plot(history.history['accuracy'], label='training accuracy')\n",
    "plt.plot(history.history['val_accuracy'], label='val accuracy')\n",
    "plt.title('Accuracy')\n",
    "plt.xlabel('epochs')\n",
    "plt.ylabel('accuracy')\n",
    "plt.legend()\n",
    "plt.show()\n",
    "\n",
    "plt.figure(1)\n",
    "plt.plot(history.history['loss'], label='training loss')\n",
    "plt.plot(history.history['val_loss'], label='val loss')\n",
    "plt.title('Loss')\n",
    "plt.xlabel('epochs')\n",
    "plt.ylabel('loss')\n",
    "plt.legend()\n",
    "plt.show()"
   ]
  },
  {
   "cell_type": "code",
   "execution_count": 74,
   "id": "670c9a6b",
   "metadata": {},
   "outputs": [],
   "source": [
    "#testing accuracy on test dataset\n",
    "\n",
    "y_test = pd.read_csv('Test.csv')\n",
    "\n",
    "labels = y_test[\"ClassId\"].values\n",
    "imgs = y_test[\"Path\"].values\n",
    "\n",
    "data=[]\n",
    "\n",
    "for img in imgs:\n",
    "    image = Image.open(img)\n",
    "    image = image.resize((30,30))\n",
    "    data.append(np.array(image))\n",
    "\n",
    "x_test=np.array(data)\n",
    "\n"
   ]
  },
  {
   "cell_type": "code",
   "execution_count": 75,
   "id": "5594d01e",
   "metadata": {},
   "outputs": [
    {
     "name": "stdout",
     "output_type": "stream",
     "text": [
      "395/395 [==============================] - 4s 10ms/step\n"
     ]
    }
   ],
   "source": [
    "predict_x=model.predict(x_test) \n",
    "pred=np.argmax(predict_x,axis=1)"
   ]
  },
  {
   "cell_type": "code",
   "execution_count": 76,
   "id": "f62555c0",
   "metadata": {},
   "outputs": [
    {
     "name": "stdout",
     "output_type": "stream",
     "text": [
      "0.9439429928741092\n"
     ]
    }
   ],
   "source": [
    "#Accuracy with the test data\n",
    "from sklearn.metrics import accuracy_score\n",
    "print(accuracy_score(labels, pred))"
   ]
  },
  {
   "cell_type": "code",
   "execution_count": null,
   "id": "0853a70b",
   "metadata": {},
   "outputs": [],
   "source": []
  }
 ],
 "metadata": {
  "kernelspec": {
   "display_name": "Python 3 (ipykernel)",
   "language": "python",
   "name": "python3"
  },
  "language_info": {
   "codemirror_mode": {
    "name": "ipython",
    "version": 3
   },
   "file_extension": ".py",
   "mimetype": "text/x-python",
   "name": "python",
   "nbconvert_exporter": "python",
   "pygments_lexer": "ipython3",
   "version": "3.9.12"
  }
 },
 "nbformat": 4,
 "nbformat_minor": 5
}
